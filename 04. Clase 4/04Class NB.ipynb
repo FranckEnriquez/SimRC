{
 "cells": [
  {
   "cell_type": "markdown",
   "metadata": {},
   "source": [
    "# Clase 4:\tPortafolios y riesgo"
   ]
  },
  {
   "cell_type": "markdown",
   "metadata": {},
   "source": [
    "[Juan Diego Sánchez Torres](https://www.researchgate.net/profile/Juan_Diego_Sanchez_Torres), \n",
    "\n",
    "*Profesor*, [MAF ITESO](http://maf.iteso.mx/web/general/detalle?group_id=5858156)\n",
    "\n",
    "+ Departamento de Matemáticas y Física\n",
    "+ dsanchez@iteso.mx\n",
    "+ Tel. 3669-34-34 Ext. 3069\n",
    "+ Oficina: Cubículo 4, Edificio J, 2do piso"
   ]
  },
  {
   "cell_type": "markdown",
   "metadata": {},
   "source": [
    "# 1. Motivación"
   ]
  },
  {
   "cell_type": "markdown",
   "metadata": {},
   "source": [
    "En primer lugar, para poder bajar precios y información sobre opciones de Yahoo, es necesario cargar algunos paquetes de Python. En este caso, el paquete principal será Pandas. También, se usarán el Scipy y el Numpy para las matemáticas necesarias y, el Matplotlib y el Seaborn para hacer gráficos de las series de datos."
   ]
  },
  {
   "cell_type": "code",
   "execution_count": 1,
   "metadata": {
    "collapsed": true
   },
   "outputs": [],
   "source": [
    "#importar los paquetes que se van a usar\n",
    "import pandas as pd\n",
    "import pandas_datareader.data as web\n",
    "import numpy as np\n",
    "import datetime\n",
    "from datetime import datetime\n",
    "import scipy.stats as stats\n",
    "import scipy as sp\n",
    "import scipy.optimize as scopt\n",
    "import matplotlib.pyplot as plt\n",
    "import seaborn as sns\n",
    "%matplotlib inline\n",
    "#algunas opciones para Python\n",
    "pd.set_option('display.notebook_repr_html', True)\n",
    "pd.set_option('display.max_columns', 6)\n",
    "pd.set_option('display.max_rows', 10)\n",
    "pd.set_option('display.width', 78)\n",
    "pd.set_option('precision', 3)"
   ]
  },
  {
   "cell_type": "code",
   "execution_count": 2,
   "metadata": {
    "collapsed": true
   },
   "outputs": [],
   "source": [
    "def def_portafolio(tickers, participacion=None):\n",
    "    if (participacion is None):\n",
    "        part = np.ones(len(tickers))/len(tickers)    \n",
    "    portfolio = pd.DataFrame({'Tickers': tickers, 'Participacion': participacion}, index=tickers)\n",
    "    return portfolio"
   ]
  },
  {
   "cell_type": "code",
   "execution_count": 3,
   "metadata": {},
   "outputs": [
    {
     "data": {
      "text/html": [
       "<div>\n",
       "<style>\n",
       "    .dataframe thead tr:only-child th {\n",
       "        text-align: right;\n",
       "    }\n",
       "\n",
       "    .dataframe thead th {\n",
       "        text-align: left;\n",
       "    }\n",
       "\n",
       "    .dataframe tbody tr th {\n",
       "        vertical-align: top;\n",
       "    }\n",
       "</style>\n",
       "<table border=\"1\" class=\"dataframe\">\n",
       "  <thead>\n",
       "    <tr style=\"text-align: right;\">\n",
       "      <th></th>\n",
       "      <th>Participacion</th>\n",
       "      <th>Tickers</th>\n",
       "    </tr>\n",
       "  </thead>\n",
       "  <tbody>\n",
       "    <tr>\n",
       "      <th>Acción A</th>\n",
       "      <td>1</td>\n",
       "      <td>Acción A</td>\n",
       "    </tr>\n",
       "    <tr>\n",
       "      <th>Acción B</th>\n",
       "      <td>1</td>\n",
       "      <td>Acción B</td>\n",
       "    </tr>\n",
       "  </tbody>\n",
       "</table>\n",
       "</div>"
      ],
      "text/plain": [
       "          Participacion   Tickers\n",
       "Acción A              1  Acción A\n",
       "Acción B              1  Acción B"
      ]
     },
     "execution_count": 3,
     "metadata": {},
     "output_type": "execute_result"
    }
   ],
   "source": [
    "portafolio = def_portafolio(['Acción A', 'Acción B'], [1, 1])\n",
    "portafolio"
   ]
  },
  {
   "cell_type": "code",
   "execution_count": 4,
   "metadata": {},
   "outputs": [
    {
     "data": {
      "text/html": [
       "<div>\n",
       "<style>\n",
       "    .dataframe thead tr:only-child th {\n",
       "        text-align: right;\n",
       "    }\n",
       "\n",
       "    .dataframe thead th {\n",
       "        text-align: left;\n",
       "    }\n",
       "\n",
       "    .dataframe tbody tr th {\n",
       "        vertical-align: top;\n",
       "    }\n",
       "</style>\n",
       "<table border=\"1\" class=\"dataframe\">\n",
       "  <thead>\n",
       "    <tr style=\"text-align: right;\">\n",
       "      <th></th>\n",
       "      <th>Acción A</th>\n",
       "      <th>Acción B</th>\n",
       "    </tr>\n",
       "  </thead>\n",
       "  <tbody>\n",
       "    <tr>\n",
       "      <th>0</th>\n",
       "      <td>0.10</td>\n",
       "      <td>-0.15</td>\n",
       "    </tr>\n",
       "    <tr>\n",
       "      <th>1</th>\n",
       "      <td>0.24</td>\n",
       "      <td>-0.20</td>\n",
       "    </tr>\n",
       "    <tr>\n",
       "      <th>2</th>\n",
       "      <td>0.05</td>\n",
       "      <td>-0.01</td>\n",
       "    </tr>\n",
       "    <tr>\n",
       "      <th>3</th>\n",
       "      <td>-0.02</td>\n",
       "      <td>0.04</td>\n",
       "    </tr>\n",
       "    <tr>\n",
       "      <th>4</th>\n",
       "      <td>0.20</td>\n",
       "      <td>-0.15</td>\n",
       "    </tr>\n",
       "  </tbody>\n",
       "</table>\n",
       "</div>"
      ],
      "text/plain": [
       "   Acción A  Acción B\n",
       "0      0.10     -0.15\n",
       "1      0.24     -0.20\n",
       "2      0.05     -0.01\n",
       "3     -0.02      0.04\n",
       "4      0.20     -0.15"
      ]
     },
     "execution_count": 4,
     "metadata": {},
     "output_type": "execute_result"
    }
   ],
   "source": [
    "rendimientos = pd.DataFrame({'Acción A': [0.1, 0.24, 0.05, -0.02, 0.2],\n",
    "                             'Acción B': [-0.15, -0.2, -0.01, 0.04, -0.15]})\n",
    "rendimientos"
   ]
  },
  {
   "cell_type": "code",
   "execution_count": 5,
   "metadata": {
    "collapsed": true
   },
   "outputs": [],
   "source": [
    "def valor_portafolio_ponderado(portafolio, rendimientos, name='Valor'):\n",
    "    total_participacion = portafolio.Participacion.sum()\n",
    "    ponderaciones=portafolio.Participacion/total_participacion\n",
    "    rendimientos_ponderados = rendimientos*ponderaciones\n",
    "    return pd.DataFrame({name: rendimientos_ponderados.sum(axis=1)})"
   ]
  },
  {
   "cell_type": "code",
   "execution_count": 6,
   "metadata": {},
   "outputs": [
    {
     "data": {
      "text/html": [
       "<div>\n",
       "<style>\n",
       "    .dataframe thead tr:only-child th {\n",
       "        text-align: right;\n",
       "    }\n",
       "\n",
       "    .dataframe thead th {\n",
       "        text-align: left;\n",
       "    }\n",
       "\n",
       "    .dataframe tbody tr th {\n",
       "        vertical-align: top;\n",
       "    }\n",
       "</style>\n",
       "<table border=\"1\" class=\"dataframe\">\n",
       "  <thead>\n",
       "    <tr style=\"text-align: right;\">\n",
       "      <th></th>\n",
       "      <th>Valor</th>\n",
       "    </tr>\n",
       "  </thead>\n",
       "  <tbody>\n",
       "    <tr>\n",
       "      <th>0</th>\n",
       "      <td>-0.025</td>\n",
       "    </tr>\n",
       "    <tr>\n",
       "      <th>1</th>\n",
       "      <td>0.020</td>\n",
       "    </tr>\n",
       "    <tr>\n",
       "      <th>2</th>\n",
       "      <td>0.020</td>\n",
       "    </tr>\n",
       "    <tr>\n",
       "      <th>3</th>\n",
       "      <td>0.010</td>\n",
       "    </tr>\n",
       "    <tr>\n",
       "      <th>4</th>\n",
       "      <td>0.025</td>\n",
       "    </tr>\n",
       "  </tbody>\n",
       "</table>\n",
       "</div>"
      ],
      "text/plain": [
       "   Valor\n",
       "0 -0.025\n",
       "1  0.020\n",
       "2  0.020\n",
       "3  0.010\n",
       "4  0.025"
      ]
     },
     "execution_count": 6,
     "metadata": {},
     "output_type": "execute_result"
    }
   ],
   "source": [
    "rend_portafolio=valor_portafolio_ponderado(portafolio, rendimientos, 'Valor')\n",
    "rend_portafolio"
   ]
  },
  {
   "cell_type": "code",
   "execution_count": 7,
   "metadata": {},
   "outputs": [
    {
     "data": {
      "text/html": [
       "<div>\n",
       "<style>\n",
       "    .dataframe thead tr:only-child th {\n",
       "        text-align: right;\n",
       "    }\n",
       "\n",
       "    .dataframe thead th {\n",
       "        text-align: left;\n",
       "    }\n",
       "\n",
       "    .dataframe tbody tr th {\n",
       "        vertical-align: top;\n",
       "    }\n",
       "</style>\n",
       "<table border=\"1\" class=\"dataframe\">\n",
       "  <thead>\n",
       "    <tr style=\"text-align: right;\">\n",
       "      <th></th>\n",
       "      <th>Acción A</th>\n",
       "      <th>Acción B</th>\n",
       "      <th>Valor</th>\n",
       "    </tr>\n",
       "  </thead>\n",
       "  <tbody>\n",
       "    <tr>\n",
       "      <th>0</th>\n",
       "      <td>0.10</td>\n",
       "      <td>-0.15</td>\n",
       "      <td>-0.025</td>\n",
       "    </tr>\n",
       "    <tr>\n",
       "      <th>1</th>\n",
       "      <td>0.24</td>\n",
       "      <td>-0.20</td>\n",
       "      <td>0.020</td>\n",
       "    </tr>\n",
       "    <tr>\n",
       "      <th>2</th>\n",
       "      <td>0.05</td>\n",
       "      <td>-0.01</td>\n",
       "      <td>0.020</td>\n",
       "    </tr>\n",
       "    <tr>\n",
       "      <th>3</th>\n",
       "      <td>-0.02</td>\n",
       "      <td>0.04</td>\n",
       "      <td>0.010</td>\n",
       "    </tr>\n",
       "    <tr>\n",
       "      <th>4</th>\n",
       "      <td>0.20</td>\n",
       "      <td>-0.15</td>\n",
       "      <td>0.025</td>\n",
       "    </tr>\n",
       "  </tbody>\n",
       "</table>\n",
       "</div>"
      ],
      "text/plain": [
       "   Acción A  Acción B  Valor\n",
       "0      0.10     -0.15 -0.025\n",
       "1      0.24     -0.20  0.020\n",
       "2      0.05     -0.01  0.020\n",
       "3     -0.02      0.04  0.010\n",
       "4      0.20     -0.15  0.025"
      ]
     },
     "execution_count": 7,
     "metadata": {},
     "output_type": "execute_result"
    }
   ],
   "source": [
    "total_rend=pd.concat([rendimientos, rend_portafolio], axis=1)\n",
    "total_rend"
   ]
  },
  {
   "cell_type": "code",
   "execution_count": 8,
   "metadata": {},
   "outputs": [
    {
     "data": {
      "text/plain": [
       "Acción A    0.107\n",
       "Acción B    0.103\n",
       "Valor       0.020\n",
       "dtype: float64"
      ]
     },
     "execution_count": 8,
     "metadata": {},
     "output_type": "execute_result"
    }
   ],
   "source": [
    "total_rend.std()"
   ]
  },
  {
   "cell_type": "code",
   "execution_count": 9,
   "metadata": {},
   "outputs": [
    {
     "data": {
      "text/html": [
       "<div>\n",
       "<style>\n",
       "    .dataframe thead tr:only-child th {\n",
       "        text-align: right;\n",
       "    }\n",
       "\n",
       "    .dataframe thead th {\n",
       "        text-align: left;\n",
       "    }\n",
       "\n",
       "    .dataframe tbody tr th {\n",
       "        vertical-align: top;\n",
       "    }\n",
       "</style>\n",
       "<table border=\"1\" class=\"dataframe\">\n",
       "  <thead>\n",
       "    <tr style=\"text-align: right;\">\n",
       "      <th></th>\n",
       "      <th>Acción A</th>\n",
       "      <th>Acción B</th>\n",
       "    </tr>\n",
       "  </thead>\n",
       "  <tbody>\n",
       "    <tr>\n",
       "      <th>Acción A</th>\n",
       "      <td>1.000</td>\n",
       "      <td>-0.926</td>\n",
       "    </tr>\n",
       "    <tr>\n",
       "      <th>Acción B</th>\n",
       "      <td>-0.926</td>\n",
       "      <td>1.000</td>\n",
       "    </tr>\n",
       "  </tbody>\n",
       "</table>\n",
       "</div>"
      ],
      "text/plain": [
       "          Acción A  Acción B\n",
       "Acción A     1.000    -0.926\n",
       "Acción B    -0.926     1.000"
      ]
     },
     "execution_count": 9,
     "metadata": {},
     "output_type": "execute_result"
    }
   ],
   "source": [
    "rendimientos.corr()"
   ]
  },
  {
   "cell_type": "code",
   "execution_count": 10,
   "metadata": {},
   "outputs": [
    {
     "data": {
      "image/png": "[encoded data removed]",
      "text/plain": [
       "<matplotlib.figure.Figure at 0x53cf358>"
      ]
     },
     "metadata": {},
     "output_type": "display_data"
    }
   ],
   "source": [
    "total_rend.plot(figsize=(8,6));"
   ]
  },
  {
   "cell_type": "code",
   "execution_count": 11,
   "metadata": {
    "collapsed": true
   },
   "outputs": [],
   "source": [
    "def plot_portafolio_rend(rend, title=None):\n",
    "    rend.plot(figsize=(8,6))\n",
    "    plt.xlabel('Año')\n",
    "    plt.ylabel('Rendimientos')\n",
    "    if (title is not None): plt.title(title)\n",
    "    plt.show()"
   ]
  },
  {
   "cell_type": "code",
   "execution_count": 12,
   "metadata": {},
   "outputs": [
    {
     "data": {
      "image/png": "[encoded data removed]",
      "text/plain": [
       "<matplotlib.figure.Figure at 0xc73fe80>"
      ]
     },
     "metadata": {},
     "output_type": "display_data"
    }
   ],
   "source": [
    "plot_portafolio_rend(total_rend);"
   ]
  },
  {
   "cell_type": "markdown",
   "metadata": {},
   "source": [
    "# 2. Uso de Pandas para descargar datos de precios de cierre"
   ]
  },
  {
   "cell_type": "markdown",
   "metadata": {},
   "source": [
    "Ahora, en forma de función"
   ]
  },
  {
   "cell_type": "code",
   "execution_count": 13,
   "metadata": {
    "collapsed": true
   },
   "outputs": [],
   "source": [
    "def get_historical_closes(ticker, start_date, end_date):\n",
    "    p = web.DataReader(ticker, \"yahoo\", start_date, end_date).sort_index('major_axis')\n",
    "    d = p.to_frame()['Adj Close'].reset_index()\n",
    "    d.rename(columns={'minor': 'Ticker', 'Adj Close': 'Close'}, inplace=True)\n",
    "    pivoted = d.pivot(index='Date', columns='Ticker')\n",
    "    pivoted.columns = pivoted.columns.droplevel(0)\n",
    "    return pivoted"
   ]
  },
  {
   "cell_type": "markdown",
   "metadata": {},
   "source": [
    "Una vez cargados los paquetes, es necesario definir los tickers de las acciones que se usarán, la fuente de descarga (Yahoo en este caso, pero también se puede desde Google) y las fechas de interés. Con esto, la función *DataReader* del paquete *pandas_datareader* bajará los precios solicitados.\n",
    "\n",
    "**Nota**: Usualmente, las distribuciones de Python no cuentan, por defecto, con el paquete *pandas_datareader*. Por lo que será necesario instalarlo aparte. El siguiente comando instala el paquete en Anaconda:\n",
    "*conda install -c conda-forge pandas-datareader *"
   ]
  },
  {
   "cell_type": "code",
   "execution_count": 14,
   "metadata": {},
   "outputs": [
    {
     "data": {
      "text/html": [
       "<div>\n",
       "<style>\n",
       "    .dataframe thead tr:only-child th {\n",
       "        text-align: right;\n",
       "    }\n",
       "\n",
       "    .dataframe thead th {\n",
       "        text-align: left;\n",
       "    }\n",
       "\n",
       "    .dataframe tbody tr th {\n",
       "        vertical-align: top;\n",
       "    }\n",
       "</style>\n",
       "<table border=\"1\" class=\"dataframe\">\n",
       "  <thead>\n",
       "    <tr style=\"text-align: right;\">\n",
       "      <th>Ticker</th>\n",
       "      <th>AA</th>\n",
       "      <th>AAPL</th>\n",
       "      <th>KO</th>\n",
       "      <th>MSFT</th>\n",
       "    </tr>\n",
       "    <tr>\n",
       "      <th>Date</th>\n",
       "      <th></th>\n",
       "      <th></th>\n",
       "      <th></th>\n",
       "      <th></th>\n",
       "    </tr>\n",
       "  </thead>\n",
       "  <tbody>\n",
       "    <tr>\n",
       "      <th>2010-01-04</th>\n",
       "      <td>37.019</td>\n",
       "      <td>27.505</td>\n",
       "      <td>22.734</td>\n",
       "      <td>25.275</td>\n",
       "    </tr>\n",
       "    <tr>\n",
       "      <th>2010-01-05</th>\n",
       "      <td>35.863</td>\n",
       "      <td>27.553</td>\n",
       "      <td>22.459</td>\n",
       "      <td>25.283</td>\n",
       "    </tr>\n",
       "    <tr>\n",
       "      <th>2010-01-06</th>\n",
       "      <td>37.730</td>\n",
       "      <td>27.114</td>\n",
       "      <td>22.451</td>\n",
       "      <td>25.128</td>\n",
       "    </tr>\n",
       "    <tr>\n",
       "      <th>2010-01-07</th>\n",
       "      <td>36.930</td>\n",
       "      <td>27.064</td>\n",
       "      <td>22.395</td>\n",
       "      <td>24.867</td>\n",
       "    </tr>\n",
       "    <tr>\n",
       "      <th>2010-01-08</th>\n",
       "      <td>37.842</td>\n",
       "      <td>27.244</td>\n",
       "      <td>21.981</td>\n",
       "      <td>25.038</td>\n",
       "    </tr>\n",
       "    <tr>\n",
       "      <th>...</th>\n",
       "      <td>...</td>\n",
       "      <td>...</td>\n",
       "      <td>...</td>\n",
       "      <td>...</td>\n",
       "    </tr>\n",
       "    <tr>\n",
       "      <th>2016-12-23</th>\n",
       "      <td>29.710</td>\n",
       "      <td>115.088</td>\n",
       "      <td>40.899</td>\n",
       "      <td>62.169</td>\n",
       "    </tr>\n",
       "    <tr>\n",
       "      <th>2016-12-27</th>\n",
       "      <td>29.650</td>\n",
       "      <td>115.819</td>\n",
       "      <td>40.909</td>\n",
       "      <td>62.209</td>\n",
       "    </tr>\n",
       "    <tr>\n",
       "      <th>2016-12-28</th>\n",
       "      <td>29.430</td>\n",
       "      <td>115.325</td>\n",
       "      <td>40.693</td>\n",
       "      <td>61.924</td>\n",
       "    </tr>\n",
       "    <tr>\n",
       "      <th>2016-12-29</th>\n",
       "      <td>28.890</td>\n",
       "      <td>115.296</td>\n",
       "      <td>40.899</td>\n",
       "      <td>61.835</td>\n",
       "    </tr>\n",
       "    <tr>\n",
       "      <th>2016-12-30</th>\n",
       "      <td>28.080</td>\n",
       "      <td>114.397</td>\n",
       "      <td>40.762</td>\n",
       "      <td>61.088</td>\n",
       "    </tr>\n",
       "  </tbody>\n",
       "</table>\n",
       "<p>1762 rows × 4 columns</p>\n",
       "</div>"
      ],
      "text/plain": [
       "Ticker          AA     AAPL      KO    MSFT\n",
       "Date                                       \n",
       "2010-01-04  37.019   27.505  22.734  25.275\n",
       "2010-01-05  35.863   27.553  22.459  25.283\n",
       "2010-01-06  37.730   27.114  22.451  25.128\n",
       "2010-01-07  36.930   27.064  22.395  24.867\n",
       "2010-01-08  37.842   27.244  21.981  25.038\n",
       "...            ...      ...     ...     ...\n",
       "2016-12-23  29.710  115.088  40.899  62.169\n",
       "2016-12-27  29.650  115.819  40.909  62.209\n",
       "2016-12-28  29.430  115.325  40.693  61.924\n",
       "2016-12-29  28.890  115.296  40.899  61.835\n",
       "2016-12-30  28.080  114.397  40.762  61.088\n",
       "\n",
       "[1762 rows x 4 columns]"
      ]
     },
     "execution_count": 14,
     "metadata": {},
     "output_type": "execute_result"
    }
   ],
   "source": [
    "closes=get_historical_closes(['AA','AAPL','MSFT','KO'], '2010-01-01', '2016-12-31')\n",
    "closes"
   ]
  },
  {
   "cell_type": "code",
   "execution_count": 15,
   "metadata": {},
   "outputs": [
    {
     "data": {
      "image/png": "[encoded data removed]",
      "text/plain": [
       "<matplotlib.figure.Figure at 0xc7d8860>"
      ]
     },
     "metadata": {},
     "output_type": "display_data"
    }
   ],
   "source": [
    "closes.plot(figsize=(8,6));"
   ]
  },
  {
   "cell_type": "markdown",
   "metadata": {},
   "source": [
    "**Nota**: Para descargar datos de la bolsa mexicana de valores (BMV), el ticker debe tener la extensión MX. \n",
    "Por ejemplo: *MEXCHEM.MX*, *LABB.MX*, *GFINBURO.MX* y *GFNORTEO.MX*."
   ]
  },
  {
   "cell_type": "markdown",
   "metadata": {},
   "source": [
    "# 3. Formulación del riesgo de un portafolio"
   ]
  },
  {
   "cell_type": "code",
   "execution_count": 16,
   "metadata": {
    "collapsed": true
   },
   "outputs": [],
   "source": [
    "def calc_daily_returns(closes):\n",
    "    return np.log(closes/closes.shift(1))[1:]"
   ]
  },
  {
   "cell_type": "code",
   "execution_count": 17,
   "metadata": {},
   "outputs": [
    {
     "data": {
      "image/png": "[encoded data removed]",
      "text/plain": [
       "<matplotlib.figure.Figure at 0xc744550>"
      ]
     },
     "metadata": {},
     "output_type": "display_data"
    }
   ],
   "source": [
    "daily_returns=calc_daily_returns(closes)\n",
    "daily_returns.plot(figsize=(8,6));"
   ]
  },
  {
   "cell_type": "code",
   "execution_count": 18,
   "metadata": {},
   "outputs": [
    {
     "data": {
      "text/html": [
       "<div>\n",
       "<style>\n",
       "    .dataframe thead tr:only-child th {\n",
       "        text-align: right;\n",
       "    }\n",
       "\n",
       "    .dataframe thead th {\n",
       "        text-align: left;\n",
       "    }\n",
       "\n",
       "    .dataframe tbody tr th {\n",
       "        vertical-align: top;\n",
       "    }\n",
       "</style>\n",
       "<table border=\"1\" class=\"dataframe\">\n",
       "  <thead>\n",
       "    <tr style=\"text-align: right;\">\n",
       "      <th>Ticker</th>\n",
       "      <th>AA</th>\n",
       "      <th>AAPL</th>\n",
       "      <th>KO</th>\n",
       "      <th>MSFT</th>\n",
       "    </tr>\n",
       "    <tr>\n",
       "      <th>Ticker</th>\n",
       "      <th></th>\n",
       "      <th></th>\n",
       "      <th></th>\n",
       "      <th></th>\n",
       "    </tr>\n",
       "  </thead>\n",
       "  <tbody>\n",
       "    <tr>\n",
       "      <th>AA</th>\n",
       "      <td>1.000</td>\n",
       "      <td>0.343</td>\n",
       "      <td>0.344</td>\n",
       "      <td>0.395</td>\n",
       "    </tr>\n",
       "    <tr>\n",
       "      <th>AAPL</th>\n",
       "      <td>0.343</td>\n",
       "      <td>1.000</td>\n",
       "      <td>0.293</td>\n",
       "      <td>0.395</td>\n",
       "    </tr>\n",
       "    <tr>\n",
       "      <th>KO</th>\n",
       "      <td>0.344</td>\n",
       "      <td>0.293</td>\n",
       "      <td>1.000</td>\n",
       "      <td>0.408</td>\n",
       "    </tr>\n",
       "    <tr>\n",
       "      <th>MSFT</th>\n",
       "      <td>0.395</td>\n",
       "      <td>0.395</td>\n",
       "      <td>0.408</td>\n",
       "      <td>1.000</td>\n",
       "    </tr>\n",
       "  </tbody>\n",
       "</table>\n",
       "</div>"
      ],
      "text/plain": [
       "Ticker     AA   AAPL     KO   MSFT\n",
       "Ticker                            \n",
       "AA      1.000  0.343  0.344  0.395\n",
       "AAPL    0.343  1.000  0.293  0.395\n",
       "KO      0.344  0.293  1.000  0.408\n",
       "MSFT    0.395  0.395  0.408  1.000"
      ]
     },
     "execution_count": 18,
     "metadata": {},
     "output_type": "execute_result"
    }
   ],
   "source": [
    "daily_returns.corr()"
   ]
  },
  {
   "cell_type": "code",
   "execution_count": 19,
   "metadata": {
    "collapsed": true
   },
   "outputs": [],
   "source": [
    "def calc_annual_returns(daily_returns):\n",
    "    grouped = np.exp(daily_returns.groupby(lambda date: date.year).sum())-1\n",
    "    return grouped"
   ]
  },
  {
   "cell_type": "code",
   "execution_count": 20,
   "metadata": {},
   "outputs": [
    {
     "data": {
      "text/html": [
       "<div>\n",
       "<style>\n",
       "    .dataframe thead tr:only-child th {\n",
       "        text-align: right;\n",
       "    }\n",
       "\n",
       "    .dataframe thead th {\n",
       "        text-align: left;\n",
       "    }\n",
       "\n",
       "    .dataframe tbody tr th {\n",
       "        vertical-align: top;\n",
       "    }\n",
       "</style>\n",
       "<table border=\"1\" class=\"dataframe\">\n",
       "  <thead>\n",
       "    <tr style=\"text-align: right;\">\n",
       "      <th>Ticker</th>\n",
       "      <th>AA</th>\n",
       "      <th>AAPL</th>\n",
       "      <th>KO</th>\n",
       "      <th>MSFT</th>\n",
       "    </tr>\n",
       "  </thead>\n",
       "  <tbody>\n",
       "    <tr>\n",
       "      <th>2010</th>\n",
       "      <td>-0.067</td>\n",
       "      <td>0.507</td>\n",
       "      <td>0.189</td>\n",
       "      <td>-0.079</td>\n",
       "    </tr>\n",
       "    <tr>\n",
       "      <th>2011</th>\n",
       "      <td>-0.433</td>\n",
       "      <td>0.256</td>\n",
       "      <td>0.095</td>\n",
       "      <td>-0.045</td>\n",
       "    </tr>\n",
       "    <tr>\n",
       "      <th>2012</th>\n",
       "      <td>0.017</td>\n",
       "      <td>0.326</td>\n",
       "      <td>0.065</td>\n",
       "      <td>0.058</td>\n",
       "    </tr>\n",
       "    <tr>\n",
       "      <th>2013</th>\n",
       "      <td>0.241</td>\n",
       "      <td>0.081</td>\n",
       "      <td>0.172</td>\n",
       "      <td>0.443</td>\n",
       "    </tr>\n",
       "    <tr>\n",
       "      <th>2014</th>\n",
       "      <td>0.498</td>\n",
       "      <td>0.406</td>\n",
       "      <td>0.053</td>\n",
       "      <td>0.276</td>\n",
       "    </tr>\n",
       "    <tr>\n",
       "      <th>2015</th>\n",
       "      <td>-0.368</td>\n",
       "      <td>-0.030</td>\n",
       "      <td>0.051</td>\n",
       "      <td>0.227</td>\n",
       "    </tr>\n",
       "    <tr>\n",
       "      <th>2016</th>\n",
       "      <td>0.201</td>\n",
       "      <td>0.125</td>\n",
       "      <td>-0.004</td>\n",
       "      <td>0.151</td>\n",
       "    </tr>\n",
       "  </tbody>\n",
       "</table>\n",
       "</div>"
      ],
      "text/plain": [
       "Ticker     AA   AAPL     KO   MSFT\n",
       "2010   -0.067  0.507  0.189 -0.079\n",
       "2011   -0.433  0.256  0.095 -0.045\n",
       "2012    0.017  0.326  0.065  0.058\n",
       "2013    0.241  0.081  0.172  0.443\n",
       "2014    0.498  0.406  0.053  0.276\n",
       "2015   -0.368 -0.030  0.051  0.227\n",
       "2016    0.201  0.125 -0.004  0.151"
      ]
     },
     "execution_count": 20,
     "metadata": {},
     "output_type": "execute_result"
    }
   ],
   "source": [
    "annual_returns = calc_annual_returns(daily_returns)\n",
    "annual_returns"
   ]
  },
  {
   "cell_type": "code",
   "execution_count": 21,
   "metadata": {
    "collapsed": true
   },
   "outputs": [],
   "source": [
    "def calc_portfolio_var(returns, weights=None):\n",
    "    if (weights is None):\n",
    "        weights = np.ones(returns.columns.size)/returns.columns.size\n",
    "    sigma = np.cov(returns.T,ddof=0)\n",
    "    var = (weights * sigma * weights.T).sum()\n",
    "    return var"
   ]
  },
  {
   "cell_type": "code",
   "execution_count": 22,
   "metadata": {},
   "outputs": [
    {
     "data": {
      "text/plain": [
       "0.013488788107574846"
      ]
     },
     "execution_count": 22,
     "metadata": {},
     "output_type": "execute_result"
    }
   ],
   "source": [
    "calc_portfolio_var(annual_returns)"
   ]
  },
  {
   "cell_type": "code",
   "execution_count": 23,
   "metadata": {
    "collapsed": true
   },
   "outputs": [],
   "source": [
    "def sharpe_ratio(returns, weights = None, risk_free_rate = 0.015):\n",
    "    n = returns.columns.size\n",
    "    if weights is None: weights = np.ones(n)/n\n",
    "    var = calc_portfolio_var(returns, weights)\n",
    "    means = returns.mean()\n",
    "    return (means.dot(weights) - risk_free_rate)/np.sqrt(var)"
   ]
  },
  {
   "cell_type": "code",
   "execution_count": 24,
   "metadata": {},
   "outputs": [
    {
     "data": {
      "text/plain": [
       "0.91958164865210668"
      ]
     },
     "execution_count": 24,
     "metadata": {},
     "output_type": "execute_result"
    }
   ],
   "source": [
    "sharpe_ratio(annual_returns)"
   ]
  },
  {
   "cell_type": "markdown",
   "metadata": {},
   "source": [
    "# 4. Optimización de portafolios"
   ]
  },
  {
   "cell_type": "code",
   "execution_count": 25,
   "metadata": {
    "collapsed": true
   },
   "outputs": [],
   "source": [
    "def f(x): return 2+x**2"
   ]
  },
  {
   "cell_type": "code",
   "execution_count": 26,
   "metadata": {},
   "outputs": [
    {
     "name": "stdout",
     "output_type": "stream",
     "text": [
      "Optimization terminated successfully.\n",
      "         Current function value: 2.000000\n",
      "         Iterations: 21\n",
      "         Function evaluations: 42\n"
     ]
    },
    {
     "data": {
      "text/plain": [
       "array([ 0.])"
      ]
     },
     "execution_count": 26,
     "metadata": {},
     "output_type": "execute_result"
    }
   ],
   "source": [
    "scopt.fmin(f, 10)"
   ]
  },
  {
   "cell_type": "code",
   "execution_count": 27,
   "metadata": {
    "collapsed": true
   },
   "outputs": [],
   "source": [
    "def negative_sharpe_ratio_n_minus_1_stock(weights,returns,risk_free_rate):\n",
    "    \"\"\"\n",
    "    Given n-1 weights, return a negative sharpe ratio\n",
    "    \"\"\"\n",
    "    weights2 = sp.append(weights, 1-np.sum(weights))\n",
    "    return -sharpe_ratio(returns, weights2, risk_free_rate)"
   ]
  },
  {
   "cell_type": "code",
   "execution_count": 28,
   "metadata": {
    "collapsed": true
   },
   "outputs": [],
   "source": [
    "def optimize_portfolio(returns, risk_free_rate):\n",
    "    w0 = np.ones(returns.columns.size-1, dtype=float) * 1.0 / returns.columns.size\n",
    "    w1 = scopt.fmin(negative_sharpe_ratio_n_minus_1_stock, w0, args=(returns, risk_free_rate))\n",
    "    final_w = sp.append(w1, 1 - np.sum(w1))\n",
    "    final_sharpe = sharpe_ratio(returns, final_w, risk_free_rate)\n",
    "    return (final_w, final_sharpe)"
   ]
  },
  {
   "cell_type": "code",
   "execution_count": 29,
   "metadata": {},
   "outputs": [
    {
     "name": "stdout",
     "output_type": "stream",
     "text": [
      "Optimization terminated successfully.\n",
      "         Current function value: -1.936823\n",
      "         Iterations: 69\n",
      "         Function evaluations: 125\n"
     ]
    },
    {
     "data": {
      "text/plain": [
       "(array([ 0.00325122,  0.27199186,  0.59407108,  0.13068584]),\n",
       " 1.9368230810921603)"
      ]
     },
     "execution_count": 29,
     "metadata": {},
     "output_type": "execute_result"
    }
   ],
   "source": [
    "optimize_portfolio(annual_returns, 0.0003)"
   ]
  },
  {
   "cell_type": "code",
   "execution_count": 30,
   "metadata": {
    "collapsed": true
   },
   "outputs": [],
   "source": [
    "def objfun(W, R, target_ret):\n",
    "    stock_mean = np.mean(R,axis=0)\n",
    "    port_mean = np.dot(W,stock_mean)\n",
    "    cov=np.cov(R.T)\n",
    "    port_var = np.dot(np.dot(W,cov),W.T)\n",
    "    penalty = 2000*abs(port_mean-target_ret)\n",
    "    return np.sqrt(port_var) + penalty"
   ]
  },
  {
   "cell_type": "code",
   "execution_count": 31,
   "metadata": {
    "collapsed": true
   },
   "outputs": [],
   "source": [
    "def calc_efficient_frontier(returns):\n",
    "    result_means = []\n",
    "    result_stds = []\n",
    "    result_weights = []\n",
    "    means = returns.mean()\n",
    "    min_mean, max_mean = means.min(), means.max()\n",
    "    nstocks = returns.columns.size\n",
    "    for r in np.linspace(min_mean, max_mean, 150):\n",
    "        weights = np.ones(nstocks)/nstocks\n",
    "        bounds = [(0,1) for i in np.arange(nstocks)]\n",
    "        constraints = ({'type': 'eq', 'fun': lambda W: np.sum(W) - 1})\n",
    "        results = scopt.minimize(objfun, weights, (returns, r), method='SLSQP', constraints = constraints, bounds = bounds)\n",
    "        if not results.success: # handle error\n",
    "            raise Exception(result.message)\n",
    "        result_means.append(np.round(r,4)) # 4 decimal places\n",
    "        std_=np.round(np.std(np.sum(returns*results.x,axis=1)),6)\n",
    "        result_stds.append(std_)\n",
    "        result_weights.append(np.round(results.x, 5))\n",
    "    return {'Means': result_means, 'Stds': result_stds, 'Weights': result_weights}"
   ]
  },
  {
   "cell_type": "code",
   "execution_count": 32,
   "metadata": {
    "collapsed": true
   },
   "outputs": [],
   "source": [
    "frontier_data = calc_efficient_frontier(annual_returns)"
   ]
  },
  {
   "cell_type": "code",
   "execution_count": 33,
   "metadata": {
    "collapsed": true
   },
   "outputs": [],
   "source": [
    "def plot_efficient_frontier(ef_data):\n",
    "    plt.figure(figsize=(12,8))\n",
    "    plt.title('Efficient Frontier')\n",
    "    plt.xlabel('Standard Deviation of the porfolio (Risk))')\n",
    "    plt.ylabel('Return of the portfolio')\n",
    "    plt.plot(ef_data['Stds'], ef_data['Means'], '--');"
   ]
  },
  {
   "cell_type": "code",
   "execution_count": 34,
   "metadata": {},
   "outputs": [
    {
     "data": {
      "image/png": "[encoded data removed]",
      "text/plain": [
       "<matplotlib.figure.Figure at 0xd9cfe48>"
      ]
     },
     "metadata": {},
     "output_type": "display_data"
    }
   ],
   "source": [
    "plot_efficient_frontier(frontier_data)"
   ]
  },
  {
   "cell_type": "markdown",
   "metadata": {
    "collapsed": true
   },
   "source": [
    "# 5. ETF"
   ]
  },
  {
   "cell_type": "code",
   "execution_count": 35,
   "metadata": {},
   "outputs": [
    {
     "data": {
      "image/png": "[encoded data removed]",
      "text/plain": [
       "<matplotlib.figure.Figure at 0xd84a3c8>"
      ]
     },
     "metadata": {},
     "output_type": "display_data"
    }
   ],
   "source": [
    "etf=get_historical_closes(['PICK','IBB','XBI','MLPX','AMLP','VGT','RYE','IEO','LABU'], '2016-01-01', '2016-12-31')\n",
    "etf.plot(figsize=(8,6));"
   ]
  },
  {
   "cell_type": "code",
   "execution_count": 36,
   "metadata": {},
   "outputs": [
    {
     "data": {
      "text/html": [
       "<div>\n",
       "<style>\n",
       "    .dataframe thead tr:only-child th {\n",
       "        text-align: right;\n",
       "    }\n",
       "\n",
       "    .dataframe thead th {\n",
       "        text-align: left;\n",
       "    }\n",
       "\n",
       "    .dataframe tbody tr th {\n",
       "        vertical-align: top;\n",
       "    }\n",
       "</style>\n",
       "<table border=\"1\" class=\"dataframe\">\n",
       "  <thead>\n",
       "    <tr style=\"text-align: right;\">\n",
       "      <th>Ticker</th>\n",
       "      <th>AMLP</th>\n",
       "      <th>IBB</th>\n",
       "      <th>IEO</th>\n",
       "      <th>...</th>\n",
       "      <th>RYE</th>\n",
       "      <th>VGT</th>\n",
       "      <th>XBI</th>\n",
       "    </tr>\n",
       "    <tr>\n",
       "      <th>Date</th>\n",
       "      <th></th>\n",
       "      <th></th>\n",
       "      <th></th>\n",
       "      <th></th>\n",
       "      <th></th>\n",
       "      <th></th>\n",
       "      <th></th>\n",
       "    </tr>\n",
       "  </thead>\n",
       "  <tbody>\n",
       "    <tr>\n",
       "      <th>2016-01-05</th>\n",
       "      <td>-6.601e-03</td>\n",
       "      <td>2.754e-04</td>\n",
       "      <td>2.644e-03</td>\n",
       "      <td>...</td>\n",
       "      <td>-0.003</td>\n",
       "      <td>-4.795e-03</td>\n",
       "      <td>-0.009</td>\n",
       "    </tr>\n",
       "    <tr>\n",
       "      <th>2016-01-06</th>\n",
       "      <td>-5.882e-02</td>\n",
       "      <td>-1.802e-02</td>\n",
       "      <td>-5.905e-02</td>\n",
       "      <td>...</td>\n",
       "      <td>-0.064</td>\n",
       "      <td>-1.366e-02</td>\n",
       "      <td>-0.044</td>\n",
       "    </tr>\n",
       "    <tr>\n",
       "      <th>2016-01-07</th>\n",
       "      <td>-5.504e-02</td>\n",
       "      <td>-4.243e-02</td>\n",
       "      <td>-2.348e-02</td>\n",
       "      <td>...</td>\n",
       "      <td>-0.024</td>\n",
       "      <td>-3.273e-02</td>\n",
       "      <td>-0.040</td>\n",
       "    </tr>\n",
       "    <tr>\n",
       "      <th>2016-01-08</th>\n",
       "      <td>1.929e-02</td>\n",
       "      <td>-1.830e-02</td>\n",
       "      <td>-7.195e-03</td>\n",
       "      <td>...</td>\n",
       "      <td>-0.005</td>\n",
       "      <td>-8.626e-03</td>\n",
       "      <td>-0.021</td>\n",
       "    </tr>\n",
       "    <tr>\n",
       "      <th>2016-01-11</th>\n",
       "      <td>-5.518e-02</td>\n",
       "      <td>-3.540e-02</td>\n",
       "      <td>-3.080e-02</td>\n",
       "      <td>...</td>\n",
       "      <td>-0.033</td>\n",
       "      <td>4.868e-03</td>\n",
       "      <td>-0.057</td>\n",
       "    </tr>\n",
       "    <tr>\n",
       "      <th>...</th>\n",
       "      <td>...</td>\n",
       "      <td>...</td>\n",
       "      <td>...</td>\n",
       "      <td>...</td>\n",
       "      <td>...</td>\n",
       "      <td>...</td>\n",
       "      <td>...</td>\n",
       "    </tr>\n",
       "    <tr>\n",
       "      <th>2016-12-23</th>\n",
       "      <td>5.518e-03</td>\n",
       "      <td>2.085e-02</td>\n",
       "      <td>-8.977e-04</td>\n",
       "      <td>...</td>\n",
       "      <td>0.000</td>\n",
       "      <td>1.381e-03</td>\n",
       "      <td>0.034</td>\n",
       "    </tr>\n",
       "    <tr>\n",
       "      <th>2016-12-27</th>\n",
       "      <td>-7.863e-04</td>\n",
       "      <td>-3.900e-03</td>\n",
       "      <td>3.884e-03</td>\n",
       "      <td>...</td>\n",
       "      <td>0.008</td>\n",
       "      <td>5.021e-03</td>\n",
       "      <td>-0.009</td>\n",
       "    </tr>\n",
       "    <tr>\n",
       "      <th>2016-12-28</th>\n",
       "      <td>-4.732e-03</td>\n",
       "      <td>-1.179e-02</td>\n",
       "      <td>-1.230e-02</td>\n",
       "      <td>...</td>\n",
       "      <td>-0.017</td>\n",
       "      <td>-1.007e-02</td>\n",
       "      <td>-0.014</td>\n",
       "    </tr>\n",
       "    <tr>\n",
       "      <th>2016-12-29</th>\n",
       "      <td>-3.167e-03</td>\n",
       "      <td>-3.625e-03</td>\n",
       "      <td>-6.361e-03</td>\n",
       "      <td>...</td>\n",
       "      <td>-0.005</td>\n",
       "      <td>5.711e-04</td>\n",
       "      <td>-0.008</td>\n",
       "    </tr>\n",
       "    <tr>\n",
       "      <th>2016-12-30</th>\n",
       "      <td>-7.932e-04</td>\n",
       "      <td>-6.498e-03</td>\n",
       "      <td>-5.790e-03</td>\n",
       "      <td>...</td>\n",
       "      <td>-0.004</td>\n",
       "      <td>-9.176e-03</td>\n",
       "      <td>-0.008</td>\n",
       "    </tr>\n",
       "  </tbody>\n",
       "</table>\n",
       "<p>251 rows × 9 columns</p>\n",
       "</div>"
      ],
      "text/plain": [
       "Ticker           AMLP        IBB        IEO  ...      RYE        VGT    XBI\n",
       "Date                                         ...                           \n",
       "2016-01-05 -6.601e-03  2.754e-04  2.644e-03  ...   -0.003 -4.795e-03 -0.009\n",
       "2016-01-06 -5.882e-02 -1.802e-02 -5.905e-02  ...   -0.064 -1.366e-02 -0.044\n",
       "2016-01-07 -5.504e-02 -4.243e-02 -2.348e-02  ...   -0.024 -3.273e-02 -0.040\n",
       "2016-01-08  1.929e-02 -1.830e-02 -7.195e-03  ...   -0.005 -8.626e-03 -0.021\n",
       "2016-01-11 -5.518e-02 -3.540e-02 -3.080e-02  ...   -0.033  4.868e-03 -0.057\n",
       "...               ...        ...        ...  ...      ...        ...    ...\n",
       "2016-12-23  5.518e-03  2.085e-02 -8.977e-04  ...    0.000  1.381e-03  0.034\n",
       "2016-12-27 -7.863e-04 -3.900e-03  3.884e-03  ...    0.008  5.021e-03 -0.009\n",
       "2016-12-28 -4.732e-03 -1.179e-02 -1.230e-02  ...   -0.017 -1.007e-02 -0.014\n",
       "2016-12-29 -3.167e-03 -3.625e-03 -6.361e-03  ...   -0.005  5.711e-04 -0.008\n",
       "2016-12-30 -7.932e-04 -6.498e-03 -5.790e-03  ...   -0.004 -9.176e-03 -0.008\n",
       "\n",
       "[251 rows x 9 columns]"
      ]
     },
     "execution_count": 36,
     "metadata": {},
     "output_type": "execute_result"
    }
   ],
   "source": [
    "daily_returns_etf=calc_daily_returns(etf)\n",
    "daily_returns_etf"
   ]
  },
  {
   "cell_type": "code",
   "execution_count": 47,
   "metadata": {},
   "outputs": [
    {
     "data": {
      "text/plain": [
       "Ticker\n",
       "AMLP    5.180e-04\n",
       "IBB    -8.229e-04\n",
       "IEO     8.932e-04\n",
       "LABU   -3.537e-03\n",
       "MLPX    1.185e-03\n",
       "PICK    1.815e-03\n",
       "RYE     1.215e-03\n",
       "VGT     5.763e-04\n",
       "XBI    -5.317e-04\n",
       "dtype: float64"
      ]
     },
     "execution_count": 47,
     "metadata": {},
     "output_type": "execute_result"
    }
   ],
   "source": [
    "daily_returns_etf_mean=daily_returns_etf.mean()\n",
    "daily_returns_etf_mean"
   ]
  },
  {
   "cell_type": "code",
   "execution_count": 38,
   "metadata": {},
   "outputs": [
    {
     "data": {
      "text/plain": [
       "Ticker\n",
       "AMLP    0.022\n",
       "IBB     0.019\n",
       "IEO     0.021\n",
       "LABU    0.074\n",
       "MLPX    0.022\n",
       "PICK    0.022\n",
       "RYE     0.021\n",
       "VGT     0.010\n",
       "XBI     0.025\n",
       "dtype: float64"
      ]
     },
     "execution_count": 38,
     "metadata": {},
     "output_type": "execute_result"
    }
   ],
   "source": [
    "daily_returns_etf_std=daily_returns_etf.std()\n",
    "daily_returns_etf_std"
   ]
  },
  {
   "cell_type": "code",
   "execution_count": 48,
   "metadata": {},
   "outputs": [
    {
     "data": {
      "text/html": [
       "<div>\n",
       "<style>\n",
       "    .dataframe thead tr:only-child th {\n",
       "        text-align: right;\n",
       "    }\n",
       "\n",
       "    .dataframe thead th {\n",
       "        text-align: left;\n",
       "    }\n",
       "\n",
       "    .dataframe tbody tr th {\n",
       "        vertical-align: top;\n",
       "    }\n",
       "</style>\n",
       "<table border=\"1\" class=\"dataframe\">\n",
       "  <thead>\n",
       "    <tr style=\"text-align: right;\">\n",
       "      <th></th>\n",
       "      <th>0</th>\n",
       "      <th>1</th>\n",
       "    </tr>\n",
       "    <tr>\n",
       "      <th>Ticker</th>\n",
       "      <th></th>\n",
       "      <th></th>\n",
       "    </tr>\n",
       "  </thead>\n",
       "  <tbody>\n",
       "    <tr>\n",
       "      <th>AMLP</th>\n",
       "      <td>5.180e-04</td>\n",
       "      <td>0.022</td>\n",
       "    </tr>\n",
       "    <tr>\n",
       "      <th>IBB</th>\n",
       "      <td>-8.229e-04</td>\n",
       "      <td>0.019</td>\n",
       "    </tr>\n",
       "    <tr>\n",
       "      <th>IEO</th>\n",
       "      <td>8.932e-04</td>\n",
       "      <td>0.021</td>\n",
       "    </tr>\n",
       "    <tr>\n",
       "      <th>LABU</th>\n",
       "      <td>-3.537e-03</td>\n",
       "      <td>0.074</td>\n",
       "    </tr>\n",
       "    <tr>\n",
       "      <th>MLPX</th>\n",
       "      <td>1.185e-03</td>\n",
       "      <td>0.022</td>\n",
       "    </tr>\n",
       "    <tr>\n",
       "      <th>PICK</th>\n",
       "      <td>1.815e-03</td>\n",
       "      <td>0.022</td>\n",
       "    </tr>\n",
       "    <tr>\n",
       "      <th>RYE</th>\n",
       "      <td>1.215e-03</td>\n",
       "      <td>0.021</td>\n",
       "    </tr>\n",
       "    <tr>\n",
       "      <th>VGT</th>\n",
       "      <td>5.763e-04</td>\n",
       "      <td>0.010</td>\n",
       "    </tr>\n",
       "    <tr>\n",
       "      <th>XBI</th>\n",
       "      <td>-5.317e-04</td>\n",
       "      <td>0.025</td>\n",
       "    </tr>\n",
       "  </tbody>\n",
       "</table>\n",
       "</div>"
      ],
      "text/plain": [
       "                0      1\n",
       "Ticker                  \n",
       "AMLP    5.180e-04  0.022\n",
       "IBB    -8.229e-04  0.019\n",
       "IEO     8.932e-04  0.021\n",
       "LABU   -3.537e-03  0.074\n",
       "MLPX    1.185e-03  0.022\n",
       "PICK    1.815e-03  0.022\n",
       "RYE     1.215e-03  0.021\n",
       "VGT     5.763e-04  0.010\n",
       "XBI    -5.317e-04  0.025"
      ]
     },
     "execution_count": 48,
     "metadata": {},
     "output_type": "execute_result"
    }
   ],
   "source": [
    "daily_returns_ms=pd.concat([daily_returns_etf_mean, daily_returns_etf_std], axis=1)\n",
    "daily_returns_ms"
   ]
  },
  {
   "cell_type": "code",
   "execution_count": 49,
   "metadata": {
    "collapsed": true
   },
   "outputs": [],
   "source": [
    "from sklearn.cluster import KMeans"
   ]
  },
  {
   "cell_type": "code",
   "execution_count": 41,
   "metadata": {
    "collapsed": true
   },
   "outputs": [],
   "source": [
    "random_state = 10\n",
    "y_pred = KMeans(n_clusters=5, random_state=random_state).fit_predict(daily_returns_ms)"
   ]
  },
  {
   "cell_type": "code",
   "execution_count": 42,
   "metadata": {},
   "outputs": [
    {
     "data": {
      "image/png": "[encoded data removed]",
      "text/plain": [
       "<matplotlib.figure.Figure at 0xed4a5c0>"
      ]
     },
     "metadata": {},
     "output_type": "display_data"
    }
   ],
   "source": [
    "plt.scatter(daily_returns_etf_mean, daily_returns_etf_std, c=y_pred);\n",
    "plt.axis([-3, 3, 0, 0.05]);"
   ]
  },
  {
   "cell_type": "code",
   "execution_count": 43,
   "metadata": {
    "collapsed": true
   },
   "outputs": [],
   "source": [
    "import scipy.cluster.hierarchy as hac"
   ]
  },
  {
   "cell_type": "code",
   "execution_count": 44,
   "metadata": {},
   "outputs": [
    {
     "data": {
      "text/html": [
       "<div>\n",
       "<style>\n",
       "    .dataframe thead tr:only-child th {\n",
       "        text-align: right;\n",
       "    }\n",
       "\n",
       "    .dataframe thead th {\n",
       "        text-align: left;\n",
       "    }\n",
       "\n",
       "    .dataframe tbody tr th {\n",
       "        vertical-align: top;\n",
       "    }\n",
       "</style>\n",
       "<table border=\"1\" class=\"dataframe\">\n",
       "  <thead>\n",
       "    <tr style=\"text-align: right;\">\n",
       "      <th>Ticker</th>\n",
       "      <th>AMLP</th>\n",
       "      <th>IBB</th>\n",
       "      <th>IEO</th>\n",
       "      <th>...</th>\n",
       "      <th>RYE</th>\n",
       "      <th>VGT</th>\n",
       "      <th>XBI</th>\n",
       "    </tr>\n",
       "    <tr>\n",
       "      <th>Ticker</th>\n",
       "      <th></th>\n",
       "      <th></th>\n",
       "      <th></th>\n",
       "      <th></th>\n",
       "      <th></th>\n",
       "      <th></th>\n",
       "      <th></th>\n",
       "    </tr>\n",
       "  </thead>\n",
       "  <tbody>\n",
       "    <tr>\n",
       "      <th>AMLP</th>\n",
       "      <td>1.000</td>\n",
       "      <td>0.308</td>\n",
       "      <td>0.706</td>\n",
       "      <td>...</td>\n",
       "      <td>0.740</td>\n",
       "      <td>0.358</td>\n",
       "      <td>0.316</td>\n",
       "    </tr>\n",
       "    <tr>\n",
       "      <th>IBB</th>\n",
       "      <td>0.308</td>\n",
       "      <td>1.000</td>\n",
       "      <td>0.371</td>\n",
       "      <td>...</td>\n",
       "      <td>0.348</td>\n",
       "      <td>0.543</td>\n",
       "      <td>0.954</td>\n",
       "    </tr>\n",
       "    <tr>\n",
       "      <th>IEO</th>\n",
       "      <td>0.706</td>\n",
       "      <td>0.371</td>\n",
       "      <td>1.000</td>\n",
       "      <td>...</td>\n",
       "      <td>0.967</td>\n",
       "      <td>0.476</td>\n",
       "      <td>0.353</td>\n",
       "    </tr>\n",
       "    <tr>\n",
       "      <th>LABU</th>\n",
       "      <td>0.313</td>\n",
       "      <td>0.952</td>\n",
       "      <td>0.349</td>\n",
       "      <td>...</td>\n",
       "      <td>0.338</td>\n",
       "      <td>0.534</td>\n",
       "      <td>0.998</td>\n",
       "    </tr>\n",
       "    <tr>\n",
       "      <th>MLPX</th>\n",
       "      <td>0.894</td>\n",
       "      <td>0.356</td>\n",
       "      <td>0.839</td>\n",
       "      <td>...</td>\n",
       "      <td>0.866</td>\n",
       "      <td>0.441</td>\n",
       "      <td>0.338</td>\n",
       "    </tr>\n",
       "    <tr>\n",
       "      <th>PICK</th>\n",
       "      <td>0.555</td>\n",
       "      <td>0.337</td>\n",
       "      <td>0.592</td>\n",
       "      <td>...</td>\n",
       "      <td>0.648</td>\n",
       "      <td>0.488</td>\n",
       "      <td>0.355</td>\n",
       "    </tr>\n",
       "    <tr>\n",
       "      <th>RYE</th>\n",
       "      <td>0.740</td>\n",
       "      <td>0.348</td>\n",
       "      <td>0.967</td>\n",
       "      <td>...</td>\n",
       "      <td>1.000</td>\n",
       "      <td>0.443</td>\n",
       "      <td>0.342</td>\n",
       "    </tr>\n",
       "    <tr>\n",
       "      <th>VGT</th>\n",
       "      <td>0.358</td>\n",
       "      <td>0.543</td>\n",
       "      <td>0.476</td>\n",
       "      <td>...</td>\n",
       "      <td>0.443</td>\n",
       "      <td>1.000</td>\n",
       "      <td>0.534</td>\n",
       "    </tr>\n",
       "    <tr>\n",
       "      <th>XBI</th>\n",
       "      <td>0.316</td>\n",
       "      <td>0.954</td>\n",
       "      <td>0.353</td>\n",
       "      <td>...</td>\n",
       "      <td>0.342</td>\n",
       "      <td>0.534</td>\n",
       "      <td>1.000</td>\n",
       "    </tr>\n",
       "  </tbody>\n",
       "</table>\n",
       "<p>9 rows × 9 columns</p>\n",
       "</div>"
      ],
      "text/plain": [
       "Ticker   AMLP    IBB    IEO  ...      RYE    VGT    XBI\n",
       "Ticker                       ...                       \n",
       "AMLP    1.000  0.308  0.706  ...    0.740  0.358  0.316\n",
       "IBB     0.308  1.000  0.371  ...    0.348  0.543  0.954\n",
       "IEO     0.706  0.371  1.000  ...    0.967  0.476  0.353\n",
       "LABU    0.313  0.952  0.349  ...    0.338  0.534  0.998\n",
       "MLPX    0.894  0.356  0.839  ...    0.866  0.441  0.338\n",
       "PICK    0.555  0.337  0.592  ...    0.648  0.488  0.355\n",
       "RYE     0.740  0.348  0.967  ...    1.000  0.443  0.342\n",
       "VGT     0.358  0.543  0.476  ...    0.443  1.000  0.534\n",
       "XBI     0.316  0.954  0.353  ...    0.342  0.534  1.000\n",
       "\n",
       "[9 rows x 9 columns]"
      ]
     },
     "execution_count": 44,
     "metadata": {},
     "output_type": "execute_result"
    }
   ],
   "source": [
    "corr_mat=daily_returns_etf.corr(method='spearman')\n",
    "corr_mat"
   ]
  },
  {
   "cell_type": "code",
   "execution_count": 45,
   "metadata": {
    "collapsed": true
   },
   "outputs": [],
   "source": [
    "Z = hac.linkage(corr_mat, 'single')"
   ]
  },
  {
   "cell_type": "code",
   "execution_count": 46,
   "metadata": {},
   "outputs": [
    {
     "data": {
      "image/png": "[encoded data removed]",
      "text/plain": [
       "<matplotlib.figure.Figure at 0xed60908>"
      ]
     },
     "metadata": {},
     "output_type": "display_data"
    }
   ],
   "source": [
    "# Plot the dendogram\n",
    "plt.figure(figsize=(25, 10))\n",
    "plt.title('Hierarchical Clustering Dendrogram')\n",
    "plt.xlabel('sample index')\n",
    "plt.ylabel('distance')\n",
    "hac.dendrogram(\n",
    "    Z,\n",
    "    leaf_rotation=90.,  # rotates the x axis labels\n",
    "    leaf_font_size=8.,  # font size for the x axis labels\n",
    ")\n",
    "plt.show()"
   ]
  },
  {
   "cell_type": "code",
   "execution_count": null,
   "metadata": {},
   "outputs": [],
   "source": []
  },
  {
   "cell_type": "code",
   "execution_count": null,
   "metadata": {
    "collapsed": true
   },
   "outputs": [],
   "source": []
  }
 ],
 "metadata": {
  "kernelspec": {
   "display_name": "Python [default]",
   "language": "python",
   "name": "python3"
  },
  "language_info": {
   "codemirror_mode": {
    "name": "ipython",
    "version": 3
   },
   "file_extension": ".py",
   "mimetype": "text/x-python",
   "name": "python",
   "nbconvert_exporter": "python",
   "pygments_lexer": "ipython3",
   "version": "3.5.4"
  }
 },
 "nbformat": 4,
 "nbformat_minor": 2
}
